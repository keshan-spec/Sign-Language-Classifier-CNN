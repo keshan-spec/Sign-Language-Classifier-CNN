{
 "cells": [
  {
   "cell_type": "markdown",
   "metadata": {},
   "source": [
    "- https://github.com/Arshad221b/Sign-Language-Recognition/blob/master/ASLwithCNN\n",
    "- https://data-flair.training/blogs/sign-language-recognition-python-ml-opencv/"
   ]
  },
  {
   "cell_type": "code",
   "execution_count": 8,
   "metadata": {},
   "outputs": [],
   "source": [
    "# Importing the Keras libraries and packages\n",
    "from keras.models import Sequential\n",
    "from keras.layers import Conv2D,MaxPool2D, Dense,Flatten, Dropout\n",
    "import matplotlib.pyplot as plt"
   ]
  },
  {
   "cell_type": "code",
   "execution_count": 2,
   "metadata": {},
   "outputs": [],
   "source": [
    "# Loading the dataset\n",
    "import pandas as pd\n",
    "import numpy as np\n",
    "\n",
    "training_set = pd.read_csv('./data/sign_mnist_train.csv')\n",
    "test_set = pd.read_csv('./data/sign_mnist_test.csv')"
   ]
  },
  {
   "cell_type": "code",
   "execution_count": 3,
   "metadata": {},
   "outputs": [],
   "source": [
    "SIZE = (28, 28)\n",
    "CLASSES = dict(zip(range(0, 26), list(map(chr, range(97, 123))))) # labels from A to Z"
   ]
  },
  {
   "cell_type": "code",
   "execution_count": 4,
   "metadata": {},
   "outputs": [],
   "source": [
    "def preprocess_data(data):\n",
    "    global SIZE\n",
    "    labels, images = data[0:, 0], np.array([np.reshape(i[1:], SIZE) for i in data])\n",
    "    return images, labels"
   ]
  },
  {
   "cell_type": "code",
   "execution_count": 5,
   "metadata": {},
   "outputs": [],
   "source": [
    "X_train, y_train = preprocess_data(training_set.to_numpy())\n",
    "X_test, y_test = preprocess_data(test_set.to_numpy())\n",
    "\n",
    "y_train = np.array(y_train).reshape(-1)\n",
    "y_test = np.array(y_test).reshape(-1)\n",
    "\n",
    "y_train = np.eye(len(CLASSES))[y_train]\n",
    "y_test = np.eye(len(CLASSES))[y_test]"
   ]
  },
  {
   "cell_type": "code",
   "execution_count": 6,
   "metadata": {},
   "outputs": [
    {
     "data": {
      "text/plain": [
       "((27455, 28, 28), (27455, 26), (7172, 28, 28), (7172, 26))"
      ]
     },
     "execution_count": 6,
     "metadata": {},
     "output_type": "execute_result"
    }
   ],
   "source": [
    "X_train.shape, y_train.shape, X_test.shape, y_test.shape"
   ]
  },
  {
   "cell_type": "code",
   "execution_count": 8,
   "metadata": {},
   "outputs": [],
   "source": [
    "X_train = X_train.reshape((X_train.shape[0], 28, 28, 1))\n",
    "X_test = X_test.reshape((X_test.shape[0], 28, 28, 1))"
   ]
  },
  {
   "cell_type": "code",
   "execution_count": 9,
   "metadata": {},
   "outputs": [],
   "source": [
    "model_params = [\n",
    "    Conv2D(filters=8, kernel_size=(3,3),strides=(1,1),padding='same',input_shape=(28,28, 1),activation='relu', data_format='channels_last'),\n",
    "    MaxPool2D(pool_size=(2,2)),\n",
    "    Conv2D(filters=16, kernel_size=(3,3),strides=(1,1),padding='same',activation='relu'),\n",
    "    Dropout(0.5),\n",
    "    MaxPool2D(pool_size=(4,4)),\n",
    "    Dense(128, activation='relu'),\n",
    "    Flatten(),\n",
    "    Dense(26, activation='softmax')\n",
    "]\n",
    "\n",
    "params = {\n",
    "    'loss': 'categorical_crossentropy',\n",
    "    'optimizer': 'SGD',\n",
    "    'metrics': ['accuracy']\n",
    "}"
   ]
  },
  {
   "cell_type": "code",
   "execution_count": 10,
   "metadata": {},
   "outputs": [
    {
     "name": "stdout",
     "output_type": "stream",
     "text": [
      "Model: \"sequential\"\n",
      "_________________________________________________________________\n",
      " Layer (type)                Output Shape              Param #   \n",
      "=================================================================\n",
      " conv2d_1 (Conv2D)           (None, 28, 28, 8)         80        \n",
      "                                                                 \n",
      " max_pooling2d (MaxPooling2D  (None, 14, 14, 8)        0         \n",
      " )                                                               \n",
      "                                                                 \n",
      " conv2d_2 (Conv2D)           (None, 14, 14, 16)        1168      \n",
      "                                                                 \n",
      " dropout (Dropout)           (None, 14, 14, 16)        0         \n",
      "                                                                 \n",
      " max_pooling2d_1 (MaxPooling  (None, 3, 3, 16)         0         \n",
      " 2D)                                                             \n",
      "                                                                 \n",
      " dense (Dense)               (None, 3, 3, 128)         2176      \n",
      "                                                                 \n",
      " flatten (Flatten)           (None, 1152)              0         \n",
      "                                                                 \n",
      " dense_1 (Dense)             (None, 26)                29978     \n",
      "                                                                 \n",
      "=================================================================\n",
      "Total params: 33,402\n",
      "Trainable params: 33,402\n",
      "Non-trainable params: 0\n",
      "_________________________________________________________________\n"
     ]
    }
   ],
   "source": [
    "model = Sequential(model_params)\n",
    "model.summary()  "
   ]
  },
  {
   "cell_type": "code",
   "execution_count": 11,
   "metadata": {},
   "outputs": [
    {
     "name": "stdout",
     "output_type": "stream",
     "text": [
      "Epoch 1/50\n",
      "275/275 [==============================] - 16s 40ms/step - loss: 15.7175 - accuracy: 0.0437\n",
      "Epoch 2/50\n",
      "275/275 [==============================] - 10s 36ms/step - loss: 3.2335 - accuracy: 0.0434\n",
      "Epoch 3/50\n",
      "275/275 [==============================] - 9s 34ms/step - loss: 3.2208 - accuracy: 0.0436\n",
      "Epoch 4/50\n",
      "275/275 [==============================] - 11s 39ms/step - loss: 3.2117 - accuracy: 0.0435\n",
      "Epoch 5/50\n",
      "275/275 [==============================] - 10s 36ms/step - loss: 3.2038 - accuracy: 0.0438\n",
      "Epoch 6/50\n",
      "275/275 [==============================] - 10s 37ms/step - loss: 3.1974 - accuracy: 0.0434\n",
      "Epoch 7/50\n",
      "275/275 [==============================] - 10s 38ms/step - loss: 3.1921 - accuracy: 0.0450\n",
      "Epoch 8/50\n",
      "275/275 [==============================] - 10s 35ms/step - loss: 3.1881 - accuracy: 0.0445\n",
      "Epoch 9/50\n",
      "275/275 [==============================] - 11s 39ms/step - loss: 3.1850 - accuracy: 0.0479\n",
      "Epoch 10/50\n",
      "275/275 [==============================] - 11s 41ms/step - loss: 3.1829 - accuracy: 0.0474\n",
      "Epoch 11/50\n",
      "275/275 [==============================] - 12s 44ms/step - loss: 3.1813 - accuracy: 0.0480\n",
      "Epoch 12/50\n",
      "275/275 [==============================] - 11s 40ms/step - loss: 3.1799 - accuracy: 0.0477\n",
      "Epoch 13/50\n",
      "275/275 [==============================] - 10s 38ms/step - loss: 3.1789 - accuracy: 0.0461\n",
      "Epoch 14/50\n",
      "275/275 [==============================] - 13s 46ms/step - loss: 3.1780 - accuracy: 0.0464\n",
      "Epoch 15/50\n",
      " 58/275 [=====>........................] - ETA: 10s - loss: 3.1797 - accuracy: 0.0422"
     ]
    }
   ],
   "source": [
    "# compile the model with params\n",
    "model.compile(**params)\n",
    "\n",
    "# train the model with the train data\n",
    "# history = model.fit(train_images, train_labels, validation_data=(validation_images, validation_labels), epochs=20)\n",
    "history = model.fit(X_train, y_train, epochs=50, batch_size=100)"
   ]
  },
  {
   "cell_type": "code",
   "execution_count": 14,
   "metadata": {},
   "outputs": [
    {
     "name": "stdout",
     "output_type": "stream",
     "text": [
      "225/225 [==============================] - 2s 8ms/step - loss: 0.2004 - accuracy: 0.9552\n",
      "Accuracy:  95.52426338195801\n"
     ]
    }
   ],
   "source": [
    "accuracy = model.evaluate(x=X_test,y=y_test,batch_size=32)\n",
    "print(\"Accuracy: \",accuracy[1]*100)"
   ]
  },
  {
   "cell_type": "code",
   "execution_count": null,
   "metadata": {},
   "outputs": [],
   "source": [
    "# check the accuracy of the model\n",
    "from termcolor import colored\n",
    "\n",
    "batch = 20\n",
    "loss = 0\n",
    "\n",
    "if batch > len(X_test):\n",
    "    print(f\"Batch size is greater than the test data size.\\nBatch size : {batch}\\nTest data size : {len(X_test)}\")\n",
    "    batch = 10\n",
    "\n",
    "for i in range(batch):\n",
    "    prediction = model.predict(np.array([X_test[i]]))\n",
    "    # print(CLASSES[np.argmax(prediction)], \"->\", CLASSES[np.argmax(y_test[i])])\n",
    "    predicted_class, actual_class = CLASSES[np.argmax(prediction)], CLASSES[np.argmax(y_test[i])]\n",
    "\n",
    "    # checks for the classes and sets color's depending on that\n",
    "    color = 'green' if predicted_class == actual_class else 'red'\n",
    "    if color == 'red': loss += 1\n",
    "    print(colored(f'[{i}] Predicted : {predicted_class : <2}|  Expected : {actual_class}', color))\n",
    "\n",
    "perc = round(100/(batch/(batch-loss)), 3)\n",
    "print(f\"Accuracy {perc}%\\nLoss : {100-perc}%\")"
   ]
  }
 ],
 "metadata": {
  "interpreter": {
   "hash": "1ce70e7fb09d93846fb9da31c8ffeaa9e6be9e848f96b1b1e309019ff423a0ff"
  },
  "kernelspec": {
   "display_name": "Python 3.8.12 ('ML')",
   "language": "python",
   "name": "python3"
  },
  "language_info": {
   "codemirror_mode": {
    "name": "ipython",
    "version": 3
   },
   "file_extension": ".py",
   "mimetype": "text/x-python",
   "name": "python",
   "nbconvert_exporter": "python",
   "pygments_lexer": "ipython3",
   "version": "3.8.12"
  },
  "orig_nbformat": 4
 },
 "nbformat": 4,
 "nbformat_minor": 2
}
