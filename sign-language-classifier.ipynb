{
 "cells": [
  {
   "cell_type": "code",
   "execution_count": 1,
   "metadata": {},
   "outputs": [],
   "source": [
    "import cv2 as cv\n",
    "import numpy as np\n",
    "import pandas as pd\n",
    "import matplotlib.pyplot as plt\n",
    "from tensorflow import keras"
   ]
  },
  {
   "cell_type": "markdown",
   "metadata": {},
   "source": [
    "## Data preprocessing"
   ]
  },
  {
   "cell_type": "markdown",
   "metadata": {},
   "source": [
    "- Data munging\n",
    "- Visualisation\n",
    "- Statistical analysis"
   ]
  },
  {
   "cell_type": "code",
   "execution_count": 2,
   "metadata": {},
   "outputs": [],
   "source": [
    "train_data = pd.read_csv('data/sign_mnist_train.csv')\n",
    "test_data = pd.read_csv('data/sign_mnist_test.csv')"
   ]
  },
  {
   "cell_type": "code",
   "execution_count": 3,
   "metadata": {},
   "outputs": [
    {
     "data": {
      "text/html": [
       "<div>\n",
       "<style scoped>\n",
       "    .dataframe tbody tr th:only-of-type {\n",
       "        vertical-align: middle;\n",
       "    }\n",
       "\n",
       "    .dataframe tbody tr th {\n",
       "        vertical-align: top;\n",
       "    }\n",
       "\n",
       "    .dataframe thead th {\n",
       "        text-align: right;\n",
       "    }\n",
       "</style>\n",
       "<table border=\"1\" class=\"dataframe\">\n",
       "  <thead>\n",
       "    <tr style=\"text-align: right;\">\n",
       "      <th></th>\n",
       "      <th>label</th>\n",
       "      <th>pixel1</th>\n",
       "      <th>pixel2</th>\n",
       "      <th>pixel3</th>\n",
       "      <th>pixel4</th>\n",
       "      <th>pixel5</th>\n",
       "      <th>pixel6</th>\n",
       "      <th>pixel7</th>\n",
       "      <th>pixel8</th>\n",
       "      <th>pixel9</th>\n",
       "      <th>...</th>\n",
       "      <th>pixel775</th>\n",
       "      <th>pixel776</th>\n",
       "      <th>pixel777</th>\n",
       "      <th>pixel778</th>\n",
       "      <th>pixel779</th>\n",
       "      <th>pixel780</th>\n",
       "      <th>pixel781</th>\n",
       "      <th>pixel782</th>\n",
       "      <th>pixel783</th>\n",
       "      <th>pixel784</th>\n",
       "    </tr>\n",
       "  </thead>\n",
       "  <tbody>\n",
       "    <tr>\n",
       "      <th>0</th>\n",
       "      <td>3</td>\n",
       "      <td>107</td>\n",
       "      <td>118</td>\n",
       "      <td>127</td>\n",
       "      <td>134</td>\n",
       "      <td>139</td>\n",
       "      <td>143</td>\n",
       "      <td>146</td>\n",
       "      <td>150</td>\n",
       "      <td>153</td>\n",
       "      <td>...</td>\n",
       "      <td>207</td>\n",
       "      <td>207</td>\n",
       "      <td>207</td>\n",
       "      <td>207</td>\n",
       "      <td>206</td>\n",
       "      <td>206</td>\n",
       "      <td>206</td>\n",
       "      <td>204</td>\n",
       "      <td>203</td>\n",
       "      <td>202</td>\n",
       "    </tr>\n",
       "    <tr>\n",
       "      <th>1</th>\n",
       "      <td>6</td>\n",
       "      <td>155</td>\n",
       "      <td>157</td>\n",
       "      <td>156</td>\n",
       "      <td>156</td>\n",
       "      <td>156</td>\n",
       "      <td>157</td>\n",
       "      <td>156</td>\n",
       "      <td>158</td>\n",
       "      <td>158</td>\n",
       "      <td>...</td>\n",
       "      <td>69</td>\n",
       "      <td>149</td>\n",
       "      <td>128</td>\n",
       "      <td>87</td>\n",
       "      <td>94</td>\n",
       "      <td>163</td>\n",
       "      <td>175</td>\n",
       "      <td>103</td>\n",
       "      <td>135</td>\n",
       "      <td>149</td>\n",
       "    </tr>\n",
       "    <tr>\n",
       "      <th>2</th>\n",
       "      <td>2</td>\n",
       "      <td>187</td>\n",
       "      <td>188</td>\n",
       "      <td>188</td>\n",
       "      <td>187</td>\n",
       "      <td>187</td>\n",
       "      <td>186</td>\n",
       "      <td>187</td>\n",
       "      <td>188</td>\n",
       "      <td>187</td>\n",
       "      <td>...</td>\n",
       "      <td>202</td>\n",
       "      <td>201</td>\n",
       "      <td>200</td>\n",
       "      <td>199</td>\n",
       "      <td>198</td>\n",
       "      <td>199</td>\n",
       "      <td>198</td>\n",
       "      <td>195</td>\n",
       "      <td>194</td>\n",
       "      <td>195</td>\n",
       "    </tr>\n",
       "    <tr>\n",
       "      <th>3</th>\n",
       "      <td>2</td>\n",
       "      <td>211</td>\n",
       "      <td>211</td>\n",
       "      <td>212</td>\n",
       "      <td>212</td>\n",
       "      <td>211</td>\n",
       "      <td>210</td>\n",
       "      <td>211</td>\n",
       "      <td>210</td>\n",
       "      <td>210</td>\n",
       "      <td>...</td>\n",
       "      <td>235</td>\n",
       "      <td>234</td>\n",
       "      <td>233</td>\n",
       "      <td>231</td>\n",
       "      <td>230</td>\n",
       "      <td>226</td>\n",
       "      <td>225</td>\n",
       "      <td>222</td>\n",
       "      <td>229</td>\n",
       "      <td>163</td>\n",
       "    </tr>\n",
       "    <tr>\n",
       "      <th>4</th>\n",
       "      <td>13</td>\n",
       "      <td>164</td>\n",
       "      <td>167</td>\n",
       "      <td>170</td>\n",
       "      <td>172</td>\n",
       "      <td>176</td>\n",
       "      <td>179</td>\n",
       "      <td>180</td>\n",
       "      <td>184</td>\n",
       "      <td>185</td>\n",
       "      <td>...</td>\n",
       "      <td>92</td>\n",
       "      <td>105</td>\n",
       "      <td>105</td>\n",
       "      <td>108</td>\n",
       "      <td>133</td>\n",
       "      <td>163</td>\n",
       "      <td>157</td>\n",
       "      <td>163</td>\n",
       "      <td>164</td>\n",
       "      <td>179</td>\n",
       "    </tr>\n",
       "  </tbody>\n",
       "</table>\n",
       "<p>5 rows × 785 columns</p>\n",
       "</div>"
      ],
      "text/plain": [
       "   label  pixel1  pixel2  pixel3  pixel4  pixel5  pixel6  pixel7  pixel8  \\\n",
       "0      3     107     118     127     134     139     143     146     150   \n",
       "1      6     155     157     156     156     156     157     156     158   \n",
       "2      2     187     188     188     187     187     186     187     188   \n",
       "3      2     211     211     212     212     211     210     211     210   \n",
       "4     13     164     167     170     172     176     179     180     184   \n",
       "\n",
       "   pixel9  ...  pixel775  pixel776  pixel777  pixel778  pixel779  pixel780  \\\n",
       "0     153  ...       207       207       207       207       206       206   \n",
       "1     158  ...        69       149       128        87        94       163   \n",
       "2     187  ...       202       201       200       199       198       199   \n",
       "3     210  ...       235       234       233       231       230       226   \n",
       "4     185  ...        92       105       105       108       133       163   \n",
       "\n",
       "   pixel781  pixel782  pixel783  pixel784  \n",
       "0       206       204       203       202  \n",
       "1       175       103       135       149  \n",
       "2       198       195       194       195  \n",
       "3       225       222       229       163  \n",
       "4       157       163       164       179  \n",
       "\n",
       "[5 rows x 785 columns]"
      ]
     },
     "execution_count": 3,
     "metadata": {},
     "output_type": "execute_result"
    }
   ],
   "source": [
    "train_data.head()"
   ]
  },
  {
   "cell_type": "code",
   "execution_count": 4,
   "metadata": {},
   "outputs": [
    {
     "data": {
      "text/html": [
       "<div>\n",
       "<style scoped>\n",
       "    .dataframe tbody tr th:only-of-type {\n",
       "        vertical-align: middle;\n",
       "    }\n",
       "\n",
       "    .dataframe tbody tr th {\n",
       "        vertical-align: top;\n",
       "    }\n",
       "\n",
       "    .dataframe thead th {\n",
       "        text-align: right;\n",
       "    }\n",
       "</style>\n",
       "<table border=\"1\" class=\"dataframe\">\n",
       "  <thead>\n",
       "    <tr style=\"text-align: right;\">\n",
       "      <th></th>\n",
       "      <th>label</th>\n",
       "      <th>pixel1</th>\n",
       "      <th>pixel2</th>\n",
       "      <th>pixel3</th>\n",
       "      <th>pixel4</th>\n",
       "      <th>pixel5</th>\n",
       "      <th>pixel6</th>\n",
       "      <th>pixel7</th>\n",
       "      <th>pixel8</th>\n",
       "      <th>pixel9</th>\n",
       "      <th>...</th>\n",
       "      <th>pixel775</th>\n",
       "      <th>pixel776</th>\n",
       "      <th>pixel777</th>\n",
       "      <th>pixel778</th>\n",
       "      <th>pixel779</th>\n",
       "      <th>pixel780</th>\n",
       "      <th>pixel781</th>\n",
       "      <th>pixel782</th>\n",
       "      <th>pixel783</th>\n",
       "      <th>pixel784</th>\n",
       "    </tr>\n",
       "  </thead>\n",
       "  <tbody>\n",
       "    <tr>\n",
       "      <th>0</th>\n",
       "      <td>6</td>\n",
       "      <td>149</td>\n",
       "      <td>149</td>\n",
       "      <td>150</td>\n",
       "      <td>150</td>\n",
       "      <td>150</td>\n",
       "      <td>151</td>\n",
       "      <td>151</td>\n",
       "      <td>150</td>\n",
       "      <td>151</td>\n",
       "      <td>...</td>\n",
       "      <td>138</td>\n",
       "      <td>148</td>\n",
       "      <td>127</td>\n",
       "      <td>89</td>\n",
       "      <td>82</td>\n",
       "      <td>96</td>\n",
       "      <td>106</td>\n",
       "      <td>112</td>\n",
       "      <td>120</td>\n",
       "      <td>107</td>\n",
       "    </tr>\n",
       "    <tr>\n",
       "      <th>1</th>\n",
       "      <td>5</td>\n",
       "      <td>126</td>\n",
       "      <td>128</td>\n",
       "      <td>131</td>\n",
       "      <td>132</td>\n",
       "      <td>133</td>\n",
       "      <td>134</td>\n",
       "      <td>135</td>\n",
       "      <td>135</td>\n",
       "      <td>136</td>\n",
       "      <td>...</td>\n",
       "      <td>47</td>\n",
       "      <td>104</td>\n",
       "      <td>194</td>\n",
       "      <td>183</td>\n",
       "      <td>186</td>\n",
       "      <td>184</td>\n",
       "      <td>184</td>\n",
       "      <td>184</td>\n",
       "      <td>182</td>\n",
       "      <td>180</td>\n",
       "    </tr>\n",
       "    <tr>\n",
       "      <th>2</th>\n",
       "      <td>10</td>\n",
       "      <td>85</td>\n",
       "      <td>88</td>\n",
       "      <td>92</td>\n",
       "      <td>96</td>\n",
       "      <td>105</td>\n",
       "      <td>123</td>\n",
       "      <td>135</td>\n",
       "      <td>143</td>\n",
       "      <td>147</td>\n",
       "      <td>...</td>\n",
       "      <td>68</td>\n",
       "      <td>166</td>\n",
       "      <td>242</td>\n",
       "      <td>227</td>\n",
       "      <td>230</td>\n",
       "      <td>227</td>\n",
       "      <td>226</td>\n",
       "      <td>225</td>\n",
       "      <td>224</td>\n",
       "      <td>222</td>\n",
       "    </tr>\n",
       "    <tr>\n",
       "      <th>3</th>\n",
       "      <td>0</td>\n",
       "      <td>203</td>\n",
       "      <td>205</td>\n",
       "      <td>207</td>\n",
       "      <td>206</td>\n",
       "      <td>207</td>\n",
       "      <td>209</td>\n",
       "      <td>210</td>\n",
       "      <td>209</td>\n",
       "      <td>210</td>\n",
       "      <td>...</td>\n",
       "      <td>154</td>\n",
       "      <td>248</td>\n",
       "      <td>247</td>\n",
       "      <td>248</td>\n",
       "      <td>253</td>\n",
       "      <td>236</td>\n",
       "      <td>230</td>\n",
       "      <td>240</td>\n",
       "      <td>253</td>\n",
       "      <td>255</td>\n",
       "    </tr>\n",
       "    <tr>\n",
       "      <th>4</th>\n",
       "      <td>3</td>\n",
       "      <td>188</td>\n",
       "      <td>191</td>\n",
       "      <td>193</td>\n",
       "      <td>195</td>\n",
       "      <td>199</td>\n",
       "      <td>201</td>\n",
       "      <td>202</td>\n",
       "      <td>203</td>\n",
       "      <td>203</td>\n",
       "      <td>...</td>\n",
       "      <td>26</td>\n",
       "      <td>40</td>\n",
       "      <td>64</td>\n",
       "      <td>48</td>\n",
       "      <td>29</td>\n",
       "      <td>46</td>\n",
       "      <td>49</td>\n",
       "      <td>46</td>\n",
       "      <td>46</td>\n",
       "      <td>53</td>\n",
       "    </tr>\n",
       "  </tbody>\n",
       "</table>\n",
       "<p>5 rows × 785 columns</p>\n",
       "</div>"
      ],
      "text/plain": [
       "   label  pixel1  pixel2  pixel3  pixel4  pixel5  pixel6  pixel7  pixel8  \\\n",
       "0      6     149     149     150     150     150     151     151     150   \n",
       "1      5     126     128     131     132     133     134     135     135   \n",
       "2     10      85      88      92      96     105     123     135     143   \n",
       "3      0     203     205     207     206     207     209     210     209   \n",
       "4      3     188     191     193     195     199     201     202     203   \n",
       "\n",
       "   pixel9  ...  pixel775  pixel776  pixel777  pixel778  pixel779  pixel780  \\\n",
       "0     151  ...       138       148       127        89        82        96   \n",
       "1     136  ...        47       104       194       183       186       184   \n",
       "2     147  ...        68       166       242       227       230       227   \n",
       "3     210  ...       154       248       247       248       253       236   \n",
       "4     203  ...        26        40        64        48        29        46   \n",
       "\n",
       "   pixel781  pixel782  pixel783  pixel784  \n",
       "0       106       112       120       107  \n",
       "1       184       184       182       180  \n",
       "2       226       225       224       222  \n",
       "3       230       240       253       255  \n",
       "4        49        46        46        53  \n",
       "\n",
       "[5 rows x 785 columns]"
      ]
     },
     "execution_count": 4,
     "metadata": {},
     "output_type": "execute_result"
    }
   ],
   "source": [
    "test_data.head()"
   ]
  },
  {
   "cell_type": "code",
   "execution_count": 3,
   "metadata": {},
   "outputs": [],
   "source": [
    "# img dimensions\n",
    "SIZE = (28, 28)\n",
    "CLASSES = dict(zip(range(0, 26), list(map(chr, range(97, 123))))) # labels from A to Z"
   ]
  },
  {
   "cell_type": "code",
   "execution_count": 4,
   "metadata": {},
   "outputs": [],
   "source": [
    "def preprocess_data(data):\n",
    "    labels, images = data[0:, 0], np.array([np.reshape(i[1:], SIZE) for i in data.astype(np.uint8)])\n",
    "    return images, labels"
   ]
  },
  {
   "cell_type": "code",
   "execution_count": 5,
   "metadata": {},
   "outputs": [],
   "source": [
    "X_train, y_train = preprocess_data(train_data.to_numpy())\n",
    "X_test, y_test = preprocess_data(test_data.to_numpy())\n",
    "\n",
    "y_train = np.array(y_train).reshape(-1)\n",
    "y_test = np.array(y_test).reshape(-1)\n",
    "\n",
    "y_train = np.eye(len(CLASSES))[y_train]\n",
    "y_test = np.eye(len(CLASSES))[y_test]\n",
    "\n",
    "X_train = X_train.reshape((X_train.shape[0], 28, 28, 1))\n",
    "X_test = X_test.reshape((X_test.shape[0], 28, 28, 1))"
   ]
  },
  {
   "cell_type": "code",
   "execution_count": 35,
   "metadata": {},
   "outputs": [],
   "source": [
    "# Preprocess data to be within 0-1 range\n",
    "train_images = X_train / 255.0\n",
    "test_images = X_test / 255.0"
   ]
  },
  {
   "cell_type": "code",
   "execution_count": null,
   "metadata": {},
   "outputs": [],
   "source": [
    "def show_image(mat, label):\n",
    "    plt.xlabel(CLASSES[label], color='black')\n",
    "    plt.imshow(mat, cmap=plt.cm.binary)\n",
    "    plt.show()\n",
    "\n",
    "for i in range(2):\n",
    "    show_image(X_train[i], y_train[i])"
   ]
  },
  {
   "cell_type": "markdown",
   "metadata": {},
   "source": [
    "## Building the model"
   ]
  },
  {
   "cell_type": "code",
   "execution_count": 7,
   "metadata": {},
   "outputs": [],
   "source": [
    "def get_predicted_class(model, img):\n",
    "    # img = cv.resize(img, SIZE)\n",
    "    prediction = model.predict(np.array([img]))\n",
    "    return CLASSES[np.argmax(prediction)]"
   ]
  },
  {
   "cell_type": "code",
   "execution_count": 8,
   "metadata": {},
   "outputs": [],
   "source": [
    "model_params2 = [\n",
    "    keras.layers.Conv2D(filters=8, kernel_size=(3,3),strides=(1,1),padding='same',input_shape=(28,28, 1),activation='relu', data_format='channels_last'),\n",
    "    keras.layers.MaxPooling2D(pool_size=(2,2)),\n",
    "    keras.layers.Conv2D(filters=16, kernel_size=(3,3),strides=(1,1),padding='same',activation='relu'),\n",
    "    keras.layers.Dropout(0.5),\n",
    "    keras.layers.MaxPooling2D(pool_size=(4,4)),\n",
    "    keras.layers.Dense(128, activation='relu'),\n",
    "    keras.layers.Flatten(),\n",
    "    keras.layers.Dense(26, activation='softmax')\n",
    "]\n",
    "\n",
    "params2 = {\n",
    "    'loss': 'categorical_crossentropy',\n",
    "    'optimizer': 'SGD',\n",
    "    'metrics': ['accuracy']\n",
    "}"
   ]
  },
  {
   "cell_type": "code",
   "execution_count": 9,
   "metadata": {},
   "outputs": [],
   "source": [
    "# prepare the model\n",
    "model_params = [\n",
    "    keras.layers.Flatten(input_shape=SIZE),  # input layer  (1)\n",
    "    keras.layers.Dense(128, activation='relu'),  # hidden layer (2)\n",
    "    keras.layers.Dense(128, activation='relu'),  # hidden layer (3)\n",
    "    keras.layers.Dense(26, activation='softmax') # output layer (4) (26 classes/letters)\n",
    "]\n",
    "params = {\n",
    "    'loss':keras.losses.SparseCategoricalCrossentropy(), # https://keras.io/api/losses/probabilistic_losses/#sparse_categorical_crossentropy-function\n",
    "    'optimizer':keras.optimizers.Adam(learning_rate=0.001), # https://keras.io/api/optimizers/adam/\n",
    "    'metrics':['accuracy']\n",
    "}"
   ]
  },
  {
   "cell_type": "code",
   "execution_count": 10,
   "metadata": {},
   "outputs": [
    {
     "name": "stdout",
     "output_type": "stream",
     "text": [
      "Model: \"sequential\"\n",
      "_________________________________________________________________\n",
      " Layer (type)                Output Shape              Param #   \n",
      "=================================================================\n",
      " conv2d (Conv2D)             (None, 28, 28, 8)         80        \n",
      "                                                                 \n",
      " max_pooling2d (MaxPooling2D  (None, 14, 14, 8)        0         \n",
      " )                                                               \n",
      "                                                                 \n",
      " conv2d_1 (Conv2D)           (None, 14, 14, 16)        1168      \n",
      "                                                                 \n",
      " dropout (Dropout)           (None, 14, 14, 16)        0         \n",
      "                                                                 \n",
      " max_pooling2d_1 (MaxPooling  (None, 3, 3, 16)         0         \n",
      " 2D)                                                             \n",
      "                                                                 \n",
      " dense (Dense)               (None, 3, 3, 128)         2176      \n",
      "                                                                 \n",
      " flatten (Flatten)           (None, 1152)              0         \n",
      "                                                                 \n",
      " dense_1 (Dense)             (None, 26)                29978     \n",
      "                                                                 \n",
      "=================================================================\n",
      "Total params: 33,402\n",
      "Trainable params: 33,402\n",
      "Non-trainable params: 0\n",
      "_________________________________________________________________\n"
     ]
    }
   ],
   "source": [
    "model = keras.Sequential(model_params2)\n",
    "model.summary()  "
   ]
  },
  {
   "cell_type": "code",
   "execution_count": 12,
   "metadata": {},
   "outputs": [
    {
     "name": "stdout",
     "output_type": "stream",
     "text": [
      "Epoch 1/50\n",
      "275/275 [==============================] - 12s 39ms/step - loss: 3.0837 - accuracy: 0.0947\n",
      "Epoch 2/50\n",
      "275/275 [==============================] - 11s 41ms/step - loss: 3.0883 - accuracy: 0.0815\n",
      "Epoch 3/50\n",
      "275/275 [==============================] - 10s 35ms/step - loss: 2.4323 - accuracy: 0.2693\n",
      "Epoch 4/50\n",
      "275/275 [==============================] - 9s 31ms/step - loss: 1.6958 - accuracy: 0.4794\n",
      "Epoch 5/50\n",
      "275/275 [==============================] - 10s 35ms/step - loss: 1.3887 - accuracy: 0.5700\n",
      "Epoch 6/50\n",
      "275/275 [==============================] - 10s 37ms/step - loss: 0.9542 - accuracy: 0.6911\n",
      "Epoch 7/50\n",
      "275/275 [==============================] - 12s 44ms/step - loss: 0.8262 - accuracy: 0.7341\n",
      "Epoch 8/50\n",
      "275/275 [==============================] - 12s 42ms/step - loss: 0.6956 - accuracy: 0.7703\n",
      "Epoch 9/50\n",
      "275/275 [==============================] - 11s 41ms/step - loss: 0.6213 - accuracy: 0.7951\n",
      "Epoch 10/50\n",
      "275/275 [==============================] - 12s 42ms/step - loss: 0.5672 - accuracy: 0.8097\n",
      "Epoch 11/50\n",
      "275/275 [==============================] - 11s 42ms/step - loss: 0.5157 - accuracy: 0.8264\n",
      "Epoch 12/50\n",
      "275/275 [==============================] - 11s 40ms/step - loss: 0.4918 - accuracy: 0.8345\n",
      "Epoch 13/50\n",
      "275/275 [==============================] - 12s 44ms/step - loss: 0.4501 - accuracy: 0.8482\n",
      "Epoch 14/50\n",
      "275/275 [==============================] - 12s 42ms/step - loss: 0.4238 - accuracy: 0.8559\n",
      "Epoch 15/50\n",
      "275/275 [==============================] - 11s 42ms/step - loss: 0.3946 - accuracy: 0.8669\n",
      "Epoch 16/50\n",
      "275/275 [==============================] - 12s 43ms/step - loss: 0.3997 - accuracy: 0.8660\n",
      "Epoch 17/50\n",
      "275/275 [==============================] - 12s 42ms/step - loss: 0.3782 - accuracy: 0.8721\n",
      "Epoch 18/50\n",
      "275/275 [==============================] - 11s 42ms/step - loss: 0.3415 - accuracy: 0.8816\n",
      "Epoch 19/50\n",
      "275/275 [==============================] - 11s 42ms/step - loss: 0.3354 - accuracy: 0.8872\n",
      "Epoch 20/50\n",
      "275/275 [==============================] - 11s 41ms/step - loss: 0.3492 - accuracy: 0.8813\n",
      "Epoch 21/50\n",
      "275/275 [==============================] - 12s 42ms/step - loss: 0.3171 - accuracy: 0.8913\n",
      "Epoch 22/50\n",
      "275/275 [==============================] - 12s 42ms/step - loss: 0.3102 - accuracy: 0.8954\n",
      "Epoch 23/50\n",
      "275/275 [==============================] - 12s 43ms/step - loss: 0.2994 - accuracy: 0.8976\n",
      "Epoch 24/50\n",
      "275/275 [==============================] - 11s 42ms/step - loss: 0.2955 - accuracy: 0.8980\n",
      "Epoch 25/50\n",
      "275/275 [==============================] - 11s 41ms/step - loss: 0.2843 - accuracy: 0.9047\n",
      "Epoch 26/50\n",
      "275/275 [==============================] - 11s 42ms/step - loss: 0.2757 - accuracy: 0.9056\n",
      "Epoch 27/50\n",
      "275/275 [==============================] - 11s 41ms/step - loss: 0.2677 - accuracy: 0.9109\n",
      "Epoch 28/50\n",
      "275/275 [==============================] - 11s 42ms/step - loss: 0.2727 - accuracy: 0.9069\n",
      "Epoch 29/50\n",
      "275/275 [==============================] - 12s 44ms/step - loss: 0.2710 - accuracy: 0.9088\n",
      "Epoch 30/50\n",
      "275/275 [==============================] - 12s 42ms/step - loss: 0.2567 - accuracy: 0.9114\n",
      "Epoch 31/50\n",
      "275/275 [==============================] - 12s 43ms/step - loss: 0.2580 - accuracy: 0.9125\n",
      "Epoch 32/50\n",
      "275/275 [==============================] - 11s 41ms/step - loss: 0.2397 - accuracy: 0.9173\n",
      "Epoch 33/50\n",
      "275/275 [==============================] - 12s 42ms/step - loss: 0.2374 - accuracy: 0.9183\n",
      "Epoch 34/50\n",
      "275/275 [==============================] - 12s 43ms/step - loss: 0.2360 - accuracy: 0.9213\n",
      "Epoch 35/50\n",
      "275/275 [==============================] - 12s 42ms/step - loss: 0.2371 - accuracy: 0.9198\n",
      "Epoch 36/50\n",
      "275/275 [==============================] - 12s 43ms/step - loss: 0.2278 - accuracy: 0.9233\n",
      "Epoch 37/50\n",
      "275/275 [==============================] - 12s 42ms/step - loss: 0.2249 - accuracy: 0.9241\n",
      "Epoch 38/50\n",
      "275/275 [==============================] - 11s 41ms/step - loss: 0.2065 - accuracy: 0.9286\n",
      "Epoch 39/50\n",
      "275/275 [==============================] - 12s 43ms/step - loss: 0.2297 - accuracy: 0.9222\n",
      "Epoch 40/50\n",
      "275/275 [==============================] - 11s 41ms/step - loss: 0.2182 - accuracy: 0.9248\n",
      "Epoch 41/50\n",
      "275/275 [==============================] - 12s 43ms/step - loss: 0.2309 - accuracy: 0.9241\n",
      "Epoch 42/50\n",
      "275/275 [==============================] - 12s 42ms/step - loss: 0.2168 - accuracy: 0.9254\n",
      "Epoch 43/50\n",
      "275/275 [==============================] - 12s 43ms/step - loss: 0.2019 - accuracy: 0.9315\n",
      "Epoch 44/50\n",
      "275/275 [==============================] - 11s 42ms/step - loss: 0.2207 - accuracy: 0.9265\n",
      "Epoch 45/50\n",
      "275/275 [==============================] - 12s 42ms/step - loss: 0.2082 - accuracy: 0.9310\n",
      "Epoch 46/50\n",
      "275/275 [==============================] - 11s 42ms/step - loss: 0.1931 - accuracy: 0.9355\n",
      "Epoch 47/50\n",
      "275/275 [==============================] - 12s 43ms/step - loss: 0.1963 - accuracy: 0.9334\n",
      "Epoch 48/50\n",
      "275/275 [==============================] - 12s 43ms/step - loss: 0.1931 - accuracy: 0.9332\n",
      "Epoch 49/50\n",
      "275/275 [==============================] - 12s 43ms/step - loss: 0.1939 - accuracy: 0.9361\n",
      "Epoch 50/50\n",
      "275/275 [==============================] - 11s 42ms/step - loss: 0.2060 - accuracy: 0.9323\n"
     ]
    }
   ],
   "source": [
    "# compile the model with params\n",
    "model.compile(**params2)\n",
    "\n",
    "# train the model with the train data\n",
    "# history = model.fit(train_images, train_labels, validation_data=(validation_images, validation_labels), epochs=20)\n",
    "history = model.fit(X_train, y_train, epochs=50, batch_size=100)"
   ]
  },
  {
   "cell_type": "code",
   "execution_count": 13,
   "metadata": {},
   "outputs": [
    {
     "data": {
      "text/plain": [
       "[<matplotlib.lines.Line2D at 0x2671b9dd2b0>]"
      ]
     },
     "execution_count": 13,
     "metadata": {},
     "output_type": "execute_result"
    },
    {
     "data": {
      "image/png": "[encoded data removed]",
      "text/plain": [
       "<Figure size 432x288 with 1 Axes>"
      ]
     },
     "metadata": {
      "needs_background": "light"
     },
     "output_type": "display_data"
    }
   ],
   "source": [
    "# plot history\n",
    "plt.plot(history.history['accuracy'])"
   ]
  },
  {
   "cell_type": "code",
   "execution_count": 14,
   "metadata": {},
   "outputs": [
    {
     "data": {
      "text/plain": [
       "[<matplotlib.lines.Line2D at 0x2671babfbb0>]"
      ]
     },
     "execution_count": 14,
     "metadata": {},
     "output_type": "execute_result"
    },
    {
     "data": {
      "image/png": "[encoded data removed]",
      "text/plain": [
       "<Figure size 432x288 with 1 Axes>"
      ]
     },
     "metadata": {
      "needs_background": "light"
     },
     "output_type": "display_data"
    }
   ],
   "source": [
    "plt.plot(history.history['loss'])"
   ]
  },
  {
   "cell_type": "code",
   "execution_count": 15,
   "metadata": {},
   "outputs": [
    {
     "name": "stdout",
     "output_type": "stream",
     "text": [
      "225/225 [==============================] - 5s 10ms/step - loss: 0.4536 - accuracy: 0.8652\n",
      "Accuracy : 86.517%\n"
     ]
    }
   ],
   "source": [
    "# Evaluate the model\n",
    "loss, accuracy = model.evaluate(X_test,  y_test, batch_size=32)\n",
    "print(f\"Accuracy : {round(accuracy*100, 3)}%\")"
   ]
  },
  {
   "cell_type": "markdown",
   "metadata": {},
   "source": [
    "Testing the model"
   ]
  },
  {
   "cell_type": "code",
   "execution_count": 16,
   "metadata": {},
   "outputs": [
    {
     "data": {
      "text/plain": [
       "(7172, 26)"
      ]
     },
     "execution_count": 16,
     "metadata": {},
     "output_type": "execute_result"
    }
   ],
   "source": [
    "'''\n",
    "returns an array of predictions\n",
    "shape -> (prediction data len, no of classes)\n",
    "each index of the inner array pointing to the index of the CLASS variable\n",
    "'''\n",
    "predictions = model.predict(X_test) # make prediction\n",
    "predictions.shape"
   ]
  },
  {
   "cell_type": "code",
   "execution_count": 17,
   "metadata": {},
   "outputs": [
    {
     "name": "stdout",
     "output_type": "stream",
     "text": [
      "\u001b[32m[0] Predicted : g |  Expected : g\u001b[0m\n",
      "\u001b[32m[1] Predicted : f |  Expected : f\u001b[0m\n",
      "\u001b[32m[2] Predicted : k |  Expected : k\u001b[0m\n",
      "\u001b[32m[3] Predicted : a |  Expected : a\u001b[0m\n",
      "\u001b[32m[4] Predicted : d |  Expected : d\u001b[0m\n",
      "\u001b[32m[5] Predicted : v |  Expected : v\u001b[0m\n",
      "\u001b[32m[6] Predicted : k |  Expected : k\u001b[0m\n",
      "\u001b[32m[7] Predicted : o |  Expected : o\u001b[0m\n",
      "\u001b[32m[8] Predicted : d |  Expected : d\u001b[0m\n",
      "\u001b[32m[9] Predicted : h |  Expected : h\u001b[0m\n",
      "\u001b[32m[10] Predicted : i |  Expected : i\u001b[0m\n",
      "\u001b[32m[11] Predicted : i |  Expected : i\u001b[0m\n",
      "\u001b[31m[12] Predicted : s |  Expected : v\u001b[0m\n",
      "\u001b[32m[13] Predicted : m |  Expected : m\u001b[0m\n",
      "\u001b[32m[14] Predicted : h |  Expected : h\u001b[0m\n",
      "\u001b[32m[15] Predicted : e |  Expected : e\u001b[0m\n",
      "\u001b[32m[16] Predicted : w |  Expected : w\u001b[0m\n",
      "\u001b[32m[17] Predicted : a |  Expected : a\u001b[0m\n",
      "\u001b[32m[18] Predicted : h |  Expected : h\u001b[0m\n",
      "\u001b[32m[19] Predicted : h |  Expected : h\u001b[0m\n",
      "Accuracy 95.0%\n",
      "Loss : 5.0%\n"
     ]
    }
   ],
   "source": [
    "# check the accuracy of the model\n",
    "from termcolor import colored\n",
    "\n",
    "batch = 20\n",
    "loss = 0\n",
    "\n",
    "if batch > len(X_test):\n",
    "    print(f\"Batch size is greater than the test data size.\\nBatch size : {batch}\\nTest data size : {len(X_test)}\")\n",
    "    batch = 10\n",
    "\n",
    "for i in range(batch):\n",
    "    prediction = model.predict(np.array([X_test[i]]))\n",
    "    # print(CLASSES[np.argmax(prediction)], \"->\", CLASSES[np.argmax(y_test[i])])\n",
    "    predicted_class, actual_class = CLASSES[np.argmax(prediction)], CLASSES[np.argmax(y_test[i])]\n",
    "\n",
    "    # checks for the classes and sets color's depending on that\n",
    "    color = 'green' if predicted_class == actual_class else 'red'\n",
    "    if color == 'red': loss += 1\n",
    "    print(colored(f'[{i}] Predicted : {predicted_class : <2}|  Expected : {actual_class}', color))\n",
    "\n",
    "perc = round(100/(batch/(batch-loss)), 3)\n",
    "print(f\"Accuracy {perc}%\\nLoss : {100-perc}%\")"
   ]
  },
  {
   "cell_type": "code",
   "execution_count": 18,
   "metadata": {},
   "outputs": [],
   "source": [
    "# save model\n",
    "model.save('models/CNNmodel.h5')"
   ]
  }
 ],
 "metadata": {
  "interpreter": {
   "hash": "1ce70e7fb09d93846fb9da31c8ffeaa9e6be9e848f96b1b1e309019ff423a0ff"
  },
  "kernelspec": {
   "display_name": "Python 3.8.12 ('ML')",
   "language": "python",
   "name": "python3"
  },
  "language_info": {
   "codemirror_mode": {
    "name": "ipython",
    "version": 3
   },
   "file_extension": ".py",
   "mimetype": "text/x-python",
   "name": "python",
   "nbconvert_exporter": "python",
   "pygments_lexer": "ipython3",
   "version": "3.8.12"
  },
  "orig_nbformat": 4
 },
 "nbformat": 4,
 "nbformat_minor": 2
}
